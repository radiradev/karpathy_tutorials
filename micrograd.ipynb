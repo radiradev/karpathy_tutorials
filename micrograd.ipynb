{
 "cells": [
  {
   "cell_type": "code",
   "execution_count": 17,
   "metadata": {},
   "outputs": [],
   "source": [
    "import math\n",
    "import numpy as np\n",
    "import matplotlib.pyplot as plt\n",
    "import random"
   ]
  },
  {
   "cell_type": "code",
   "execution_count": 2,
   "metadata": {},
   "outputs": [],
   "source": [
    "def f(x):\n",
    "    return 3*x**2 - 4*x + 5"
   ]
  },
  {
   "cell_type": "code",
   "execution_count": 3,
   "metadata": {},
   "outputs": [
    {
     "data": {
      "image/png": "[encoded data removed]",
      "text/plain": [
       "<Figure size 640x480 with 1 Axes>"
      ]
     },
     "metadata": {},
     "output_type": "display_data"
    }
   ],
   "source": [
    "xs = np.arange(-5, 5, 0.25)\n",
    "ys = f(xs)\n",
    "\n",
    "plt.plot(xs, ys)\n",
    "plt.show()"
   ]
  },
  {
   "cell_type": "code",
   "execution_count": 4,
   "metadata": {},
   "outputs": [
    {
     "data": {
      "text/plain": [
       "8.000030000054892"
      ]
     },
     "execution_count": 4,
     "metadata": {},
     "output_type": "execute_result"
    }
   ],
   "source": [
    "h = 0.00001\n",
    "x = 2 \n",
    "(f(x + h) - f(x))/h"
   ]
  },
  {
   "cell_type": "code",
   "execution_count": 5,
   "metadata": {},
   "outputs": [
    {
     "name": "stdout",
     "output_type": "stream",
     "text": [
      "4.0\n"
     ]
    }
   ],
   "source": [
    "a = 2.0 \n",
    "b = -3.0\n",
    "c = 10.0\n",
    "d = a*b + c\n",
    "print(d)"
   ]
  },
  {
   "cell_type": "code",
   "execution_count": 6,
   "metadata": {},
   "outputs": [
    {
     "name": "stdout",
     "output_type": "stream",
     "text": [
      "f 4.0\n",
      "Df 4.0001\n",
      "slope 0.9999999999976694\n"
     ]
    }
   ],
   "source": [
    "#Evaluating simple derivatives\n",
    "\n",
    "h = 0.0001\n",
    "\n",
    "a = 2.0 \n",
    "b = -3.0\n",
    "c = 10.0\n",
    "f = a*b + c\n",
    "\n",
    "# Variable we are differentiating with respect to\n",
    "c += h \n",
    "\n",
    "# adding a slight nudge to the variable we are differentiating our function with respect to\n",
    "Df = a*b + c\n",
    "\n",
    "print('f', f)\n",
    "print('Df', Df)\n",
    "\n",
    "print('slope', (Df - f)/h)"
   ]
  },
  {
   "cell_type": "code",
   "execution_count": 124,
   "metadata": {},
   "outputs": [],
   "source": [
    "class Value:\n",
    "    def __init__(self, data, _children=(), _op='', label=''):\n",
    "        self.data = data\n",
    "        self.grad = 0.0\n",
    "        self._backward = lambda: None\n",
    "        self._prev = set(_children)\n",
    "        self._op = _op\n",
    "        self.label = label\n",
    "        \n",
    "    def __repr__(self):\n",
    "        \"\"\" Representation of the Value when we access it directly\"\"\"\n",
    "        return f\"Value(data={self.data})\"\n",
    "\n",
    "    def __add__(self, other):\n",
    "        other = other if isinstance(other, Value) else Value(other)\n",
    "        out = Value(self.data + other.data, (self, other), '+')\n",
    "\n",
    "        def _backward():\n",
    "            self.grad += out.grad\n",
    "            other.grad += out.grad\n",
    "        out._backward = _backward\n",
    "\n",
    "        return out\n",
    "    def __neg__(self):\n",
    "        return self * -1\n",
    "\n",
    "    def __sub__(self, other):\n",
    "        return self + (-other)\n",
    "    \n",
    "    def __radd__(self, other):\n",
    "        return self + other\n",
    "\n",
    "    def __rmul__(self, other): #checks if python can mulitply other * self\n",
    "        return self * other\n",
    "\n",
    "    def __mul__(self, other):\n",
    "        other = other if isinstance(other, Value) else Value(other)\n",
    "        out = Value(self.data * other.data, (self, other), '*')\n",
    "\n",
    "        def _backward():\n",
    "            self.grad += out.grad * other.data\n",
    "            other.grad += out.grad * self.data\n",
    "        out._backward = _backward\n",
    "        return out\n",
    "    \n",
    "    def __pow__(self, other):\n",
    "        assert isinstance(other, (int, float)), \"only supports int/float powers\"\n",
    "        out = Value(self.data**other, (self, ), f'**{other}')\n",
    "\n",
    "        def _backward():\n",
    "            self.grad += other * self.data ** (other-1) * out.grad\n",
    "        \n",
    "        out._backward = _backward\n",
    "        return out\n",
    "\n",
    "    def __truediv__(self, other):\n",
    "        return self * (other ** -1)\n",
    "\n",
    "    def backward(self):\n",
    "        topo = []\n",
    "        visited = set()\n",
    "        def build_topo(v):\n",
    "            if v not in visited:\n",
    "                visited.add(v)\n",
    "                for child in v._prev:\n",
    "                    build_topo(child)\n",
    "                topo.append(v)\n",
    "        build_topo(self)\n",
    "\n",
    "        self.grad = 1.0 \n",
    "\n",
    "        for node in reversed(topo):\n",
    "            node._backward()\n",
    "\n",
    "    def exp(self):\n",
    "        x = self.data\n",
    "        out = Value(math.exp(x), (self, ), 'exp')\n",
    "\n",
    "        def _backward():\n",
    "            self.grad += out.data * out.grad\n",
    "\n",
    "        out._backward = _backward\n",
    "        return out\n",
    "\n",
    "    def tanh(self):\n",
    "        tanh = (math.exp(2*self.data) - 1)/(math.exp(2*self.data) + 1)\n",
    "        out = Value(tanh, (self, ), 'tanh')\n",
    "\n",
    "        def _backward():\n",
    "            self.grad += (1 - out.data**2) * out.grad\n",
    "        out._backward = _backward\n",
    "        return out\n",
    "\n"
   ]
  },
  {
   "cell_type": "code",
   "execution_count": 8,
   "metadata": {},
   "outputs": [
    {
     "data": {
      "text/plain": [
       "Value(data=1.0)"
      ]
     },
     "execution_count": 8,
     "metadata": {},
     "output_type": "execute_result"
    }
   ],
   "source": [
    "a = Value(2.0)\n",
    "a._backward()\n",
    "\n",
    "a / a"
   ]
  },
  {
   "cell_type": "code",
   "execution_count": 9,
   "metadata": {},
   "outputs": [],
   "source": [
    "from graphviz import Digraph\n",
    "def trace(root):\n",
    "    nodes, edges = set(), set()\n",
    "    def build(v):\n",
    "        if v not in nodes:\n",
    "            nodes.add(v)\n",
    "            for child in v._prev:\n",
    "                edges.add((child, v))\n",
    "                build(child)\n",
    "    build(root)\n",
    "    return nodes, edges\n",
    "\n",
    "def draw_dot(root, format='svg', rankdir='LR'):\n",
    "    \"\"\"\n",
    "    format: png | svg | ...\n",
    "    rankdir: TB (top to bottom graph) | LR (left to right)\n",
    "    \"\"\"\n",
    "    assert rankdir in ['LR', 'TB']\n",
    "    nodes, edges = trace(root)\n",
    "    dot = Digraph(format=format, graph_attr={'rankdir': rankdir}) #, node_attr={'rankdir': 'TB'})\n",
    "    \n",
    "    for n in nodes:\n",
    "        dot.node(name=str(id(n)), label = \"{ %s | data %.4f | grad %.4f }\" % (n.label, n.data, n.grad), shape='record')\n",
    "        if n._op:\n",
    "            dot.node(name=str(id(n)) + n._op, label=n._op)\n",
    "            dot.edge(str(id(n)) + n._op, str(id(n)))\n",
    "    \n",
    "    for n1, n2 in edges:\n",
    "        dot.edge(str(id(n1)), str(id(n2)) + n2._op)\n",
    "    \n",
    "    return dot"
   ]
  },
  {
   "cell_type": "markdown",
   "metadata": {},
   "source": [
    "To evaluate the next gradient in in the graph we have to use the chain rule: \n",
    "$$ \\frac{\\partial L}{\\partial c} = \\frac{\\partial L}{\\partial d} \\frac{\\partial d}{\\partial c} "
   ]
  },
  {
   "cell_type": "code",
   "execution_count": 10,
   "metadata": {},
   "outputs": [],
   "source": [
    "x1 = Value(2.0 , label='x1')\n",
    "x2 = Value(0.0, label='x2')\n",
    "\n",
    "w1  = Value(-3.0, label='w1')\n",
    "w2 = Value(1.0, label='w2')\n",
    "\n",
    "b = Value(6.88137358, label='b')\n",
    "\n",
    "x1w1 = x1*w1; x1w1.label = 'x1*w1'\n",
    "x2w2 = x2*w2; x2w2.label = 'x2*w2'\n",
    "\n",
    "x1w1x2w2 = x1w1 + x2w2; x1w1x2w2.label = 'x1*w1 + x2*w2'\n",
    "n = x1w1x2w2 + b; n.label = 'n'\n",
    "\n",
    "e = (2*n).exp()\n",
    "o = (e -1)/(e + 1)\n",
    "\n",
    "o.backward()"
   ]
  },
  {
   "cell_type": "code",
   "execution_count": 11,
   "metadata": {},
   "outputs": [
    {
     "data": {
      "image/svg+xml": "<?xml version=\"1.0\" encoding=\"UTF-8\" standalone=\"no\"?>\n<!DOCTYPE svg PUBLIC \"-//W3C//DTD SVG 1.1//EN\"\n \"http://www.w3.org/Graphics/SVG/1.1/DTD/svg11.dtd\">\n<!-- Generated by graphviz version 2.40.1 (20161225.0304)\n -->\n<!-- Title: %3 Pages: 1 -->\n<svg width=\"3428pt\" height=\"239pt\"\n viewBox=\"0.00 0.00 3427.60 239.00\" xmlns=\"http://www.w3.org/2000/svg\" xmlns:xlink=\"http://www.w3.org/1999/xlink\">\n<g id=\"graph0\" class=\"graph\" transform=\"scale(1 1) rotate(0) translate(4 235)\">\n<title>%3</title>\n<polygon fill=\"#ffffff\" stroke=\"transparent\" points=\"-4,4 -4,-235 3423.5952,-235 3423.5952,4 -4,4\"/>\n<!-- 140426133900304 -->\n<g id=\"node1\" class=\"node\">\n<title>140426133900304</title>\n<polygon fill=\"none\" stroke=\"#000000\" points=\"2.5,-194.5 2.5,-230.5 246.5,-230.5 246.5,-194.5 2.5,-194.5\"/>\n<text text-anchor=\"middle\" x=\"19.5\" y=\"-208.8\" font-family=\"Times,serif\" font-size=\"14.00\" fill=\"#000000\">x1</text>\n<polyline fill=\"none\" stroke=\"#000000\" points=\"36.5,-194.5 36.5,-230.5 \"/>\n<text text-anchor=\"middle\" x=\"87.5\" y=\"-208.8\" font-family=\"Times,serif\" font-size=\"14.00\" fill=\"#000000\">data 2.0000</text>\n<polyline fill=\"none\" stroke=\"#000000\" points=\"138.5,-194.5 138.5,-230.5 \"/>\n<text text-anchor=\"middle\" x=\"192.5\" y=\"-208.8\" font-family=\"Times,serif\" font-size=\"14.00\" fill=\"#000000\">grad &#45;1.5000</text>\n</g>\n<!-- 140426133900352* -->\n<g id=\"node10\" class=\"node\">\n<title>140426133900352*</title>\n<ellipse fill=\"none\" stroke=\"#000000\" cx=\"312\" cy=\"-157.5\" rx=\"27\" ry=\"18\"/>\n<text text-anchor=\"middle\" x=\"312\" y=\"-153.8\" font-family=\"Times,serif\" font-size=\"14.00\" fill=\"#000000\">*</text>\n</g>\n<!-- 140426133900304&#45;&gt;140426133900352* -->\n<g id=\"edge25\" class=\"edge\">\n<title>140426133900304&#45;&gt;140426133900352*</title>\n<path fill=\"none\" stroke=\"#000000\" d=\"M217.8602,-194.4385C228.4479,-191.7458 239.0142,-188.7637 249,-185.5 259.6907,-182.0059 271.0215,-177.3043 281.082,-172.7524\"/>\n<polygon fill=\"#000000\" stroke=\"#000000\" points=\"282.6833,-175.8677 290.276,-168.4784 279.7325,-169.5201 282.6833,-175.8677\"/>\n</g>\n<!-- 140426138758688 -->\n<g id=\"node2\" class=\"node\">\n<title>140426138758688</title>\n<polygon fill=\"none\" stroke=\"#000000\" points=\"1598,-55.5 1598,-91.5 1825,-91.5 1825,-55.5 1598,-55.5\"/>\n<text text-anchor=\"middle\" x=\"1608.5\" y=\"-69.8\" font-family=\"Times,serif\" font-size=\"14.00\" fill=\"#000000\"> </text>\n<polyline fill=\"none\" stroke=\"#000000\" points=\"1619,-55.5 1619,-91.5 \"/>\n<text text-anchor=\"middle\" x=\"1670\" y=\"-69.8\" font-family=\"Times,serif\" font-size=\"14.00\" fill=\"#000000\">data 1.7627</text>\n<polyline fill=\"none\" stroke=\"#000000\" points=\"1721,-55.5 1721,-91.5 \"/>\n<text text-anchor=\"middle\" x=\"1773\" y=\"-69.8\" font-family=\"Times,serif\" font-size=\"14.00\" fill=\"#000000\">grad 0.2500</text>\n</g>\n<!-- 140426138757200exp -->\n<g id=\"node8\" class=\"node\">\n<title>140426138757200exp</title>\n<ellipse fill=\"none\" stroke=\"#000000\" cx=\"1888.2976\" cy=\"-73.5\" rx=\"27.0966\" ry=\"18\"/>\n<text text-anchor=\"middle\" x=\"1888.2976\" y=\"-69.8\" font-family=\"Times,serif\" font-size=\"14.00\" fill=\"#000000\">exp</text>\n</g>\n<!-- 140426138758688&#45;&gt;140426138757200exp -->\n<g id=\"edge17\" class=\"edge\">\n<title>140426138758688&#45;&gt;140426138757200exp</title>\n<path fill=\"none\" stroke=\"#000000\" d=\"M1825.4676,-73.5C1834.3792,-73.5 1842.9115,-73.5 1850.6573,-73.5\"/>\n<polygon fill=\"#000000\" stroke=\"#000000\" points=\"1850.6942,-77.0001 1860.6942,-73.5 1850.6942,-70.0001 1850.6942,-77.0001\"/>\n</g>\n<!-- 140426138758688* -->\n<g id=\"node3\" class=\"node\">\n<title>140426138758688*</title>\n<ellipse fill=\"none\" stroke=\"#000000\" cx=\"1535\" cy=\"-73.5\" rx=\"27\" ry=\"18\"/>\n<text text-anchor=\"middle\" x=\"1535\" y=\"-69.8\" font-family=\"Times,serif\" font-size=\"14.00\" fill=\"#000000\">*</text>\n</g>\n<!-- 140426138758688*&#45;&gt;140426138758688 -->\n<g id=\"edge1\" class=\"edge\">\n<title>140426138758688*&#45;&gt;140426138758688</title>\n<path fill=\"none\" stroke=\"#000000\" d=\"M1562.1913,-73.5C1569.6477,-73.5 1578.2447,-73.5 1587.4697,-73.5\"/>\n<polygon fill=\"#000000\" stroke=\"#000000\" points=\"1587.702,-77.0001 1597.7019,-73.5 1587.7019,-70.0001 1587.702,-77.0001\"/>\n</g>\n<!-- 140426138757152 -->\n<g id=\"node4\" class=\"node\">\n<title>140426138757152</title>\n<polygon fill=\"none\" stroke=\"#000000\" points=\"2576.5952,-82.5 2576.5952,-118.5 2803.5952,-118.5 2803.5952,-82.5 2576.5952,-82.5\"/>\n<text text-anchor=\"middle\" x=\"2587.0952\" y=\"-96.8\" font-family=\"Times,serif\" font-size=\"14.00\" fill=\"#000000\"> </text>\n<polyline fill=\"none\" stroke=\"#000000\" points=\"2597.5952,-82.5 2597.5952,-118.5 \"/>\n<text text-anchor=\"middle\" x=\"2648.5952\" y=\"-96.8\" font-family=\"Times,serif\" font-size=\"14.00\" fill=\"#000000\">data 4.8284</text>\n<polyline fill=\"none\" stroke=\"#000000\" points=\"2699.5952,-82.5 2699.5952,-118.5 \"/>\n<text text-anchor=\"middle\" x=\"2751.5952\" y=\"-96.8\" font-family=\"Times,serif\" font-size=\"14.00\" fill=\"#000000\">grad 0.1464</text>\n</g>\n<!-- 140426138758112* -->\n<g id=\"node28\" class=\"node\">\n<title>140426138758112*</title>\n<ellipse fill=\"none\" stroke=\"#000000\" cx=\"3129.5952\" cy=\"-72.5\" rx=\"27\" ry=\"18\"/>\n<text text-anchor=\"middle\" x=\"3129.5952\" y=\"-68.8\" font-family=\"Times,serif\" font-size=\"14.00\" fill=\"#000000\">*</text>\n</g>\n<!-- 140426138757152&#45;&gt;140426138758112* -->\n<g id=\"edge16\" class=\"edge\">\n<title>140426138757152&#45;&gt;140426138758112*</title>\n<path fill=\"none\" stroke=\"#000000\" d=\"M2803.8125,-94.0929C2878.5271,-89.7502 2978.4056,-83.6928 3066.5952,-77.5 3074.9988,-76.9099 3084.0287,-76.224 3092.5533,-75.5528\"/>\n<polygon fill=\"#000000\" stroke=\"#000000\" points=\"3092.9349,-79.0336 3102.6247,-74.7489 3092.3779,-72.0558 3092.9349,-79.0336\"/>\n</g>\n<!-- 140426138757152+ -->\n<g id=\"node5\" class=\"node\">\n<title>140426138757152+</title>\n<ellipse fill=\"none\" stroke=\"#000000\" cx=\"2246.5952\" cy=\"-100.5\" rx=\"27\" ry=\"18\"/>\n<text text-anchor=\"middle\" x=\"2246.5952\" y=\"-96.8\" font-family=\"Times,serif\" font-size=\"14.00\" fill=\"#000000\">+</text>\n</g>\n<!-- 140426138757152+&#45;&gt;140426138757152 -->\n<g id=\"edge2\" class=\"edge\">\n<title>140426138757152+&#45;&gt;140426138757152</title>\n<path fill=\"none\" stroke=\"#000000\" d=\"M2273.6705,-100.5C2330.4901,-100.5 2465.2525,-100.5 2566.1871,-100.5\"/>\n<polygon fill=\"#000000\" stroke=\"#000000\" points=\"2566.4622,-104.0001 2576.4622,-100.5 2566.4621,-97.0001 2566.4622,-104.0001\"/>\n</g>\n<!-- 140426138756672 -->\n<g id=\"node6\" class=\"node\">\n<title>140426138756672</title>\n<polygon fill=\"none\" stroke=\"#000000\" points=\"1242.5,-28.5 1242.5,-64.5 1469.5,-64.5 1469.5,-28.5 1242.5,-28.5\"/>\n<text text-anchor=\"middle\" x=\"1253\" y=\"-42.8\" font-family=\"Times,serif\" font-size=\"14.00\" fill=\"#000000\"> </text>\n<polyline fill=\"none\" stroke=\"#000000\" points=\"1263.5,-28.5 1263.5,-64.5 \"/>\n<text text-anchor=\"middle\" x=\"1314.5\" y=\"-42.8\" font-family=\"Times,serif\" font-size=\"14.00\" fill=\"#000000\">data 2.0000</text>\n<polyline fill=\"none\" stroke=\"#000000\" points=\"1365.5,-28.5 1365.5,-64.5 \"/>\n<text text-anchor=\"middle\" x=\"1417.5\" y=\"-42.8\" font-family=\"Times,serif\" font-size=\"14.00\" fill=\"#000000\">grad 0.2203</text>\n</g>\n<!-- 140426138756672&#45;&gt;140426138758688* -->\n<g id=\"edge18\" class=\"edge\">\n<title>140426138756672&#45;&gt;140426138758688*</title>\n<path fill=\"none\" stroke=\"#000000\" d=\"M1469.6171,-63.6378C1479.8451,-65.1805 1489.619,-66.6548 1498.348,-67.9715\"/>\n<polygon fill=\"#000000\" stroke=\"#000000\" points=\"1498.0272,-71.4626 1508.4374,-69.4933 1499.0713,-64.5409 1498.0272,-71.4626\"/>\n</g>\n<!-- 140426138757200 -->\n<g id=\"node7\" class=\"node\">\n<title>140426138757200</title>\n<polygon fill=\"none\" stroke=\"#000000\" points=\"1954.0952,-55.5 1954.0952,-91.5 2181.0952,-91.5 2181.0952,-55.5 1954.0952,-55.5\"/>\n<text text-anchor=\"middle\" x=\"1964.5952\" y=\"-69.8\" font-family=\"Times,serif\" font-size=\"14.00\" fill=\"#000000\"> </text>\n<polyline fill=\"none\" stroke=\"#000000\" points=\"1975.0952,-55.5 1975.0952,-91.5 \"/>\n<text text-anchor=\"middle\" x=\"2026.0952\" y=\"-69.8\" font-family=\"Times,serif\" font-size=\"14.00\" fill=\"#000000\">data 5.8284</text>\n<polyline fill=\"none\" stroke=\"#000000\" points=\"2077.0952,-55.5 2077.0952,-91.5 \"/>\n<text text-anchor=\"middle\" x=\"2129.0952\" y=\"-69.8\" font-family=\"Times,serif\" font-size=\"14.00\" fill=\"#000000\">grad 0.0429</text>\n</g>\n<!-- 140426138757200&#45;&gt;140426138757152+ -->\n<g id=\"edge28\" class=\"edge\">\n<title>140426138757200&#45;&gt;140426138757152+</title>\n<path fill=\"none\" stroke=\"#000000\" d=\"M2181.2122,-90.6378C2191.4402,-92.1805 2201.2142,-93.6548 2209.9431,-94.9715\"/>\n<polygon fill=\"#000000\" stroke=\"#000000\" points=\"2209.6223,-98.4626 2220.0325,-96.4933 2210.6665,-91.5409 2209.6223,-98.4626\"/>\n</g>\n<!-- 140426138758784+ -->\n<g id=\"node14\" class=\"node\">\n<title>140426138758784+</title>\n<ellipse fill=\"none\" stroke=\"#000000\" cx=\"2246.5952\" cy=\"-45.5\" rx=\"27\" ry=\"18\"/>\n<text text-anchor=\"middle\" x=\"2246.5952\" y=\"-41.8\" font-family=\"Times,serif\" font-size=\"14.00\" fill=\"#000000\">+</text>\n</g>\n<!-- 140426138757200&#45;&gt;140426138758784+ -->\n<g id=\"edge13\" class=\"edge\">\n<title>140426138757200&#45;&gt;140426138758784+</title>\n<path fill=\"none\" stroke=\"#000000\" d=\"M2181.2122,-55.7275C2191.4402,-54.1276 2201.2142,-52.5987 2209.9431,-51.2333\"/>\n<polygon fill=\"#000000\" stroke=\"#000000\" points=\"2210.6936,-54.6585 2220.0325,-49.655 2209.6117,-47.7426 2210.6936,-54.6585\"/>\n</g>\n<!-- 140426138757200exp&#45;&gt;140426138757200 -->\n<g id=\"edge3\" class=\"edge\">\n<title>140426138757200exp&#45;&gt;140426138757200</title>\n<path fill=\"none\" stroke=\"#000000\" d=\"M1915.9199,-73.5C1924.1084,-73.5 1933.6511,-73.5 1943.8899,-73.5\"/>\n<polygon fill=\"#000000\" stroke=\"#000000\" points=\"1943.8984,-77.0001 1953.8984,-73.5 1943.8983,-70.0001 1943.8984,-77.0001\"/>\n</g>\n<!-- 140426133900352 -->\n<g id=\"node9\" class=\"node\">\n<title>140426133900352</title>\n<polygon fill=\"none\" stroke=\"#000000\" points=\"375,-139.5 375,-175.5 648,-175.5 648,-139.5 375,-139.5\"/>\n<text text-anchor=\"middle\" x=\"406\" y=\"-153.8\" font-family=\"Times,serif\" font-size=\"14.00\" fill=\"#000000\">x1*w1</text>\n<polyline fill=\"none\" stroke=\"#000000\" points=\"437,-139.5 437,-175.5 \"/>\n<text text-anchor=\"middle\" x=\"490.5\" y=\"-153.8\" font-family=\"Times,serif\" font-size=\"14.00\" fill=\"#000000\">data &#45;6.0000</text>\n<polyline fill=\"none\" stroke=\"#000000\" points=\"544,-139.5 544,-175.5 \"/>\n<text text-anchor=\"middle\" x=\"596\" y=\"-153.8\" font-family=\"Times,serif\" font-size=\"14.00\" fill=\"#000000\">grad 0.5000</text>\n</g>\n<!-- 140426133897472+ -->\n<g id=\"node22\" class=\"node\">\n<title>140426133897472+</title>\n<ellipse fill=\"none\" stroke=\"#000000\" cx=\"711\" cy=\"-129.5\" rx=\"27\" ry=\"18\"/>\n<text text-anchor=\"middle\" x=\"711\" y=\"-125.8\" font-family=\"Times,serif\" font-size=\"14.00\" fill=\"#000000\">+</text>\n</g>\n<!-- 140426133900352&#45;&gt;140426133897472+ -->\n<g id=\"edge12\" class=\"edge\">\n<title>140426133900352&#45;&gt;140426133897472+</title>\n<path fill=\"none\" stroke=\"#000000\" d=\"M639.8208,-139.4901C652.2835,-137.7409 664.0963,-136.083 674.3869,-134.6387\"/>\n<polygon fill=\"#000000\" stroke=\"#000000\" points=\"675.1068,-138.072 684.5232,-133.216 674.1338,-131.14 675.1068,-138.072\"/>\n</g>\n<!-- 140426133900352*&#45;&gt;140426133900352 -->\n<g id=\"edge4\" class=\"edge\">\n<title>140426133900352*&#45;&gt;140426133900352</title>\n<path fill=\"none\" stroke=\"#000000\" d=\"M339.3213,-157.5C346.688,-157.5 355.1981,-157.5 364.4094,-157.5\"/>\n<polygon fill=\"#000000\" stroke=\"#000000\" points=\"364.659,-161.0001 374.659,-157.5 364.659,-154.0001 364.659,-161.0001\"/>\n</g>\n<!-- 140426133897280 -->\n<g id=\"node11\" class=\"node\">\n<title>140426133897280</title>\n<polygon fill=\"none\" stroke=\"#000000\" points=\"377.5,-84.5 377.5,-120.5 645.5,-120.5 645.5,-84.5 377.5,-84.5\"/>\n<text text-anchor=\"middle\" x=\"408.5\" y=\"-98.8\" font-family=\"Times,serif\" font-size=\"14.00\" fill=\"#000000\">x2*w2</text>\n<polyline fill=\"none\" stroke=\"#000000\" points=\"439.5,-84.5 439.5,-120.5 \"/>\n<text text-anchor=\"middle\" x=\"490.5\" y=\"-98.8\" font-family=\"Times,serif\" font-size=\"14.00\" fill=\"#000000\">data 0.0000</text>\n<polyline fill=\"none\" stroke=\"#000000\" points=\"541.5,-84.5 541.5,-120.5 \"/>\n<text text-anchor=\"middle\" x=\"593.5\" y=\"-98.8\" font-family=\"Times,serif\" font-size=\"14.00\" fill=\"#000000\">grad 0.5000</text>\n</g>\n<!-- 140426133897280&#45;&gt;140426133897472+ -->\n<g id=\"edge14\" class=\"edge\">\n<title>140426133897280&#45;&gt;140426133897472+</title>\n<path fill=\"none\" stroke=\"#000000\" d=\"M644.5694,-120.5094C655.2549,-121.9555 665.364,-123.3237 674.3224,-124.5361\"/>\n<polygon fill=\"#000000\" stroke=\"#000000\" points=\"673.8966,-128.0103 684.2757,-125.8832 674.8355,-121.0736 673.8966,-128.0103\"/>\n</g>\n<!-- 140426133897280* -->\n<g id=\"node12\" class=\"node\">\n<title>140426133897280*</title>\n<ellipse fill=\"none\" stroke=\"#000000\" cx=\"312\" cy=\"-102.5\" rx=\"27\" ry=\"18\"/>\n<text text-anchor=\"middle\" x=\"312\" y=\"-98.8\" font-family=\"Times,serif\" font-size=\"14.00\" fill=\"#000000\">*</text>\n</g>\n<!-- 140426133897280*&#45;&gt;140426133897280 -->\n<g id=\"edge5\" class=\"edge\">\n<title>140426133897280*&#45;&gt;140426133897280</title>\n<path fill=\"none\" stroke=\"#000000\" d=\"M339.3213,-102.5C347.4083,-102.5 356.8733,-102.5 367.1312,-102.5\"/>\n<polygon fill=\"#000000\" stroke=\"#000000\" points=\"367.1901,-106.0001 377.19,-102.5 367.19,-99.0001 367.1901,-106.0001\"/>\n</g>\n<!-- 140426138758784 -->\n<g id=\"node13\" class=\"node\">\n<title>140426138758784</title>\n<polygon fill=\"none\" stroke=\"#000000\" points=\"2309.5952,-27.5 2309.5952,-63.5 2540.5952,-63.5 2540.5952,-27.5 2309.5952,-27.5\"/>\n<text text-anchor=\"middle\" x=\"2320.0952\" y=\"-41.8\" font-family=\"Times,serif\" font-size=\"14.00\" fill=\"#000000\"> </text>\n<polyline fill=\"none\" stroke=\"#000000\" points=\"2330.5952,-27.5 2330.5952,-63.5 \"/>\n<text text-anchor=\"middle\" x=\"2381.5952\" y=\"-41.8\" font-family=\"Times,serif\" font-size=\"14.00\" fill=\"#000000\">data 6.8284</text>\n<polyline fill=\"none\" stroke=\"#000000\" points=\"2432.5952,-27.5 2432.5952,-63.5 \"/>\n<text text-anchor=\"middle\" x=\"2486.5952\" y=\"-41.8\" font-family=\"Times,serif\" font-size=\"14.00\" fill=\"#000000\">grad &#45;0.1036</text>\n</g>\n<!-- 140426138756864**&#45;1 -->\n<g id=\"node20\" class=\"node\">\n<title>140426138756864**&#45;1</title>\n<ellipse fill=\"none\" stroke=\"#000000\" cx=\"2690.0952\" cy=\"-45.5\" rx=\"29.4969\" ry=\"18\"/>\n<text text-anchor=\"middle\" x=\"2690.0952\" y=\"-41.8\" font-family=\"Times,serif\" font-size=\"14.00\" fill=\"#000000\">**&#45;1</text>\n</g>\n<!-- 140426138758784&#45;&gt;140426138756864**&#45;1 -->\n<g id=\"edge21\" class=\"edge\">\n<title>140426138758784&#45;&gt;140426138756864**&#45;1</title>\n<path fill=\"none\" stroke=\"#000000\" d=\"M2540.9425,-45.5C2580.139,-45.5 2621.3108,-45.5 2650.4431,-45.5\"/>\n<polygon fill=\"#000000\" stroke=\"#000000\" points=\"2650.6054,-49.0001 2660.6054,-45.5 2650.6054,-42.0001 2650.6054,-49.0001\"/>\n</g>\n<!-- 140426138758784+&#45;&gt;140426138758784 -->\n<g id=\"edge6\" class=\"edge\">\n<title>140426138758784+&#45;&gt;140426138758784</title>\n<path fill=\"none\" stroke=\"#000000\" d=\"M2273.7055,-45.5C2281.1542,-45.5 2289.7494,-45.5 2298.9832,-45.5\"/>\n<polygon fill=\"#000000\" stroke=\"#000000\" points=\"2299.2296,-49.0001 2309.2295,-45.5 2299.2295,-42.0001 2299.2296,-49.0001\"/>\n</g>\n<!-- 140426133898384 -->\n<g id=\"node15\" class=\"node\">\n<title>140426133898384</title>\n<polygon fill=\"none\" stroke=\"#000000\" points=\"0,-139.5 0,-175.5 249,-175.5 249,-139.5 0,-139.5\"/>\n<text text-anchor=\"middle\" x=\"19\" y=\"-153.8\" font-family=\"Times,serif\" font-size=\"14.00\" fill=\"#000000\">w1</text>\n<polyline fill=\"none\" stroke=\"#000000\" points=\"38,-139.5 38,-175.5 \"/>\n<text text-anchor=\"middle\" x=\"91.5\" y=\"-153.8\" font-family=\"Times,serif\" font-size=\"14.00\" fill=\"#000000\">data &#45;3.0000</text>\n<polyline fill=\"none\" stroke=\"#000000\" points=\"145,-139.5 145,-175.5 \"/>\n<text text-anchor=\"middle\" x=\"197\" y=\"-153.8\" font-family=\"Times,serif\" font-size=\"14.00\" fill=\"#000000\">grad 1.0000</text>\n</g>\n<!-- 140426133898384&#45;&gt;140426133900352* -->\n<g id=\"edge20\" class=\"edge\">\n<title>140426133898384&#45;&gt;140426133900352*</title>\n<path fill=\"none\" stroke=\"#000000\" d=\"M249.0436,-157.5C258.1581,-157.5 266.8357,-157.5 274.6751,-157.5\"/>\n<polygon fill=\"#000000\" stroke=\"#000000\" points=\"274.808,-161.0001 284.8079,-157.5 274.8079,-154.0001 274.808,-161.0001\"/>\n</g>\n<!-- 140426138756624 -->\n<g id=\"node16\" class=\"node\">\n<title>140426138756624</title>\n<polygon fill=\"none\" stroke=\"#000000\" points=\"1951.5952,-110.5 1951.5952,-146.5 2183.5952,-146.5 2183.5952,-110.5 1951.5952,-110.5\"/>\n<text text-anchor=\"middle\" x=\"1962.0952\" y=\"-124.8\" font-family=\"Times,serif\" font-size=\"14.00\" fill=\"#000000\"> </text>\n<polyline fill=\"none\" stroke=\"#000000\" points=\"1972.5952,-110.5 1972.5952,-146.5 \"/>\n<text text-anchor=\"middle\" x=\"2026.0952\" y=\"-124.8\" font-family=\"Times,serif\" font-size=\"14.00\" fill=\"#000000\">data &#45;1.0000</text>\n<polyline fill=\"none\" stroke=\"#000000\" points=\"2079.5952,-110.5 2079.5952,-146.5 \"/>\n<text text-anchor=\"middle\" x=\"2131.5952\" y=\"-124.8\" font-family=\"Times,serif\" font-size=\"14.00\" fill=\"#000000\">grad 0.1464</text>\n</g>\n<!-- 140426138756624&#45;&gt;140426138757152+ -->\n<g id=\"edge11\" class=\"edge\">\n<title>140426138756624&#45;&gt;140426138757152+</title>\n<path fill=\"none\" stroke=\"#000000\" d=\"M2182.7301,-110.4901C2192.4647,-108.9673 2201.7574,-107.5137 2210.0918,-106.21\"/>\n<polygon fill=\"#000000\" stroke=\"#000000\" points=\"2210.7584,-109.6484 2220.0973,-104.6449 2209.6765,-102.7325 2210.7584,-109.6484\"/>\n</g>\n<!-- 140426133899968 -->\n<g id=\"node17\" class=\"node\">\n<title>140426133899968</title>\n<polygon fill=\"none\" stroke=\"#000000\" points=\"1240,-83.5 1240,-119.5 1472,-119.5 1472,-83.5 1240,-83.5\"/>\n<text text-anchor=\"middle\" x=\"1253\" y=\"-97.8\" font-family=\"Times,serif\" font-size=\"14.00\" fill=\"#000000\">n</text>\n<polyline fill=\"none\" stroke=\"#000000\" points=\"1266,-83.5 1266,-119.5 \"/>\n<text text-anchor=\"middle\" x=\"1317\" y=\"-97.8\" font-family=\"Times,serif\" font-size=\"14.00\" fill=\"#000000\">data 0.8814</text>\n<polyline fill=\"none\" stroke=\"#000000\" points=\"1368,-83.5 1368,-119.5 \"/>\n<text text-anchor=\"middle\" x=\"1420\" y=\"-97.8\" font-family=\"Times,serif\" font-size=\"14.00\" fill=\"#000000\">grad 0.5000</text>\n</g>\n<!-- 140426133899968&#45;&gt;140426138758688* -->\n<g id=\"edge27\" class=\"edge\">\n<title>140426133899968&#45;&gt;140426138758688*</title>\n<path fill=\"none\" stroke=\"#000000\" d=\"M1471.135,-83.4901C1480.8696,-81.9673 1490.1623,-80.5137 1498.4967,-79.21\"/>\n<polygon fill=\"#000000\" stroke=\"#000000\" points=\"1499.1632,-82.6484 1508.5022,-77.6449 1498.0814,-75.7325 1499.1632,-82.6484\"/>\n</g>\n<!-- 140426133899968+ -->\n<g id=\"node18\" class=\"node\">\n<title>140426133899968+</title>\n<ellipse fill=\"none\" stroke=\"#000000\" cx=\"1177\" cy=\"-101.5\" rx=\"27\" ry=\"18\"/>\n<text text-anchor=\"middle\" x=\"1177\" y=\"-97.8\" font-family=\"Times,serif\" font-size=\"14.00\" fill=\"#000000\">+</text>\n</g>\n<!-- 140426133899968+&#45;&gt;140426133899968 -->\n<g id=\"edge7\" class=\"edge\">\n<title>140426133899968+&#45;&gt;140426133899968</title>\n<path fill=\"none\" stroke=\"#000000\" d=\"M1204.1862,-101.5C1211.6559,-101.5 1220.2751,-101.5 1229.5348,-101.5\"/>\n<polygon fill=\"#000000\" stroke=\"#000000\" points=\"1229.8099,-105.0001 1239.8098,-101.5 1229.8098,-98.0001 1229.8099,-105.0001\"/>\n</g>\n<!-- 140426138756864 -->\n<g id=\"node19\" class=\"node\">\n<title>140426138756864</title>\n<polygon fill=\"none\" stroke=\"#000000\" points=\"2839.5952,-31.5 2839.5952,-67.5 3066.5952,-67.5 3066.5952,-31.5 2839.5952,-31.5\"/>\n<text text-anchor=\"middle\" x=\"2850.0952\" y=\"-45.8\" font-family=\"Times,serif\" font-size=\"14.00\" fill=\"#000000\"> </text>\n<polyline fill=\"none\" stroke=\"#000000\" points=\"2860.5952,-31.5 2860.5952,-67.5 \"/>\n<text text-anchor=\"middle\" x=\"2911.5952\" y=\"-45.8\" font-family=\"Times,serif\" font-size=\"14.00\" fill=\"#000000\">data 0.1464</text>\n<polyline fill=\"none\" stroke=\"#000000\" points=\"2962.5952,-31.5 2962.5952,-67.5 \"/>\n<text text-anchor=\"middle\" x=\"3014.5952\" y=\"-45.8\" font-family=\"Times,serif\" font-size=\"14.00\" fill=\"#000000\">grad 4.8284</text>\n</g>\n<!-- 140426138756864&#45;&gt;140426138758112* -->\n<g id=\"edge19\" class=\"edge\">\n<title>140426138756864&#45;&gt;140426138758112*</title>\n<path fill=\"none\" stroke=\"#000000\" d=\"M3066.8709,-64.3263C3076.1469,-65.5351 3085.0112,-66.6902 3093.0032,-67.7316\"/>\n<polygon fill=\"#000000\" stroke=\"#000000\" points=\"3092.5998,-71.2086 3102.9683,-69.0302 3093.5044,-64.2673 3092.5998,-71.2086\"/>\n</g>\n<!-- 140426138756864**&#45;1&#45;&gt;140426138756864 -->\n<g id=\"edge8\" class=\"edge\">\n<title>140426138756864**&#45;1&#45;&gt;140426138756864</title>\n<path fill=\"none\" stroke=\"#000000\" d=\"M2719.4991,-45.9472C2746.4942,-46.3578 2788.395,-46.9951 2829.2985,-47.6172\"/>\n<polygon fill=\"#000000\" stroke=\"#000000\" points=\"2829.335,-51.118 2839.3871,-47.7706 2829.4415,-44.1188 2829.335,-51.118\"/>\n</g>\n<!-- 140426133897472 -->\n<g id=\"node21\" class=\"node\">\n<title>140426133897472</title>\n<polygon fill=\"none\" stroke=\"#000000\" points=\"774,-111.5 774,-147.5 1114,-147.5 1114,-111.5 774,-111.5\"/>\n<text text-anchor=\"middle\" x=\"838.5\" y=\"-125.8\" font-family=\"Times,serif\" font-size=\"14.00\" fill=\"#000000\">x1*w1 + x2*w2</text>\n<polyline fill=\"none\" stroke=\"#000000\" points=\"903,-111.5 903,-147.5 \"/>\n<text text-anchor=\"middle\" x=\"956.5\" y=\"-125.8\" font-family=\"Times,serif\" font-size=\"14.00\" fill=\"#000000\">data &#45;6.0000</text>\n<polyline fill=\"none\" stroke=\"#000000\" points=\"1010,-111.5 1010,-147.5 \"/>\n<text text-anchor=\"middle\" x=\"1062\" y=\"-125.8\" font-family=\"Times,serif\" font-size=\"14.00\" fill=\"#000000\">grad 0.5000</text>\n</g>\n<!-- 140426133897472&#45;&gt;140426133899968+ -->\n<g id=\"edge24\" class=\"edge\">\n<title>140426133897472&#45;&gt;140426133899968+</title>\n<path fill=\"none\" stroke=\"#000000\" d=\"M1093.8684,-111.4901C1110.8767,-109.4462 1126.8486,-107.5268 1140.1585,-105.9273\"/>\n<polygon fill=\"#000000\" stroke=\"#000000\" points=\"1140.7202,-109.3851 1150.2311,-104.7169 1139.8849,-102.4351 1140.7202,-109.3851\"/>\n</g>\n<!-- 140426133897472+&#45;&gt;140426133897472 -->\n<g id=\"edge9\" class=\"edge\">\n<title>140426133897472+&#45;&gt;140426133897472</title>\n<path fill=\"none\" stroke=\"#000000\" d=\"M738.1841,-129.5C745.579,-129.5 754.1738,-129.5 763.5728,-129.5\"/>\n<polygon fill=\"#000000\" stroke=\"#000000\" points=\"763.6421,-133.0001 773.642,-129.5 763.642,-126.0001 763.6421,-133.0001\"/>\n</g>\n<!-- 140426133898000 -->\n<g id=\"node23\" class=\"node\">\n<title>140426133898000</title>\n<polygon fill=\"none\" stroke=\"#000000\" points=\"2.5,-84.5 2.5,-120.5 246.5,-120.5 246.5,-84.5 2.5,-84.5\"/>\n<text text-anchor=\"middle\" x=\"21.5\" y=\"-98.8\" font-family=\"Times,serif\" font-size=\"14.00\" fill=\"#000000\">w2</text>\n<polyline fill=\"none\" stroke=\"#000000\" points=\"40.5,-84.5 40.5,-120.5 \"/>\n<text text-anchor=\"middle\" x=\"91.5\" y=\"-98.8\" font-family=\"Times,serif\" font-size=\"14.00\" fill=\"#000000\">data 1.0000</text>\n<polyline fill=\"none\" stroke=\"#000000\" points=\"142.5,-84.5 142.5,-120.5 \"/>\n<text text-anchor=\"middle\" x=\"194.5\" y=\"-98.8\" font-family=\"Times,serif\" font-size=\"14.00\" fill=\"#000000\">grad 0.0000</text>\n</g>\n<!-- 140426133898000&#45;&gt;140426133897280* -->\n<g id=\"edge26\" class=\"edge\">\n<title>140426133898000&#45;&gt;140426133897280*</title>\n<path fill=\"none\" stroke=\"#000000\" d=\"M246.6848,-102.5C256.6848,-102.5 266.208,-102.5 274.7367,-102.5\"/>\n<polygon fill=\"#000000\" stroke=\"#000000\" points=\"274.969,-106.0001 284.9689,-102.5 274.9689,-99.0001 274.969,-106.0001\"/>\n</g>\n<!-- 140426138756912 -->\n<g id=\"node24\" class=\"node\">\n<title>140426138756912</title>\n<polygon fill=\"none\" stroke=\"#000000\" points=\"1952.0952,-.5 1952.0952,-36.5 2183.0952,-36.5 2183.0952,-.5 1952.0952,-.5\"/>\n<text text-anchor=\"middle\" x=\"1962.5952\" y=\"-14.8\" font-family=\"Times,serif\" font-size=\"14.00\" fill=\"#000000\"> </text>\n<polyline fill=\"none\" stroke=\"#000000\" points=\"1973.0952,-.5 1973.0952,-36.5 \"/>\n<text text-anchor=\"middle\" x=\"2024.0952\" y=\"-14.8\" font-family=\"Times,serif\" font-size=\"14.00\" fill=\"#000000\">data 1.0000</text>\n<polyline fill=\"none\" stroke=\"#000000\" points=\"2075.0952,-.5 2075.0952,-36.5 \"/>\n<text text-anchor=\"middle\" x=\"2129.0952\" y=\"-14.8\" font-family=\"Times,serif\" font-size=\"14.00\" fill=\"#000000\">grad &#45;0.1036</text>\n</g>\n<!-- 140426138756912&#45;&gt;140426138758784+ -->\n<g id=\"edge22\" class=\"edge\">\n<title>140426138756912&#45;&gt;140426138758784+</title>\n<path fill=\"none\" stroke=\"#000000\" d=\"M2183.2345,-35.9428C2192.7054,-37.3714 2201.7482,-38.7354 2209.885,-39.9627\"/>\n<polygon fill=\"#000000\" stroke=\"#000000\" points=\"2209.6095,-43.4607 2220.0197,-41.4914 2210.6536,-36.539 2209.6095,-43.4607\"/>\n</g>\n<!-- 140426133897616 -->\n<g id=\"node25\" class=\"node\">\n<title>140426133897616</title>\n<polygon fill=\"none\" stroke=\"#000000\" points=\"828,-56.5 828,-92.5 1060,-92.5 1060,-56.5 828,-56.5\"/>\n<text text-anchor=\"middle\" x=\"841\" y=\"-70.8\" font-family=\"Times,serif\" font-size=\"14.00\" fill=\"#000000\">b</text>\n<polyline fill=\"none\" stroke=\"#000000\" points=\"854,-56.5 854,-92.5 \"/>\n<text text-anchor=\"middle\" x=\"905\" y=\"-70.8\" font-family=\"Times,serif\" font-size=\"14.00\" fill=\"#000000\">data 6.8814</text>\n<polyline fill=\"none\" stroke=\"#000000\" points=\"956,-56.5 956,-92.5 \"/>\n<text text-anchor=\"middle\" x=\"1008\" y=\"-70.8\" font-family=\"Times,serif\" font-size=\"14.00\" fill=\"#000000\">grad 0.5000</text>\n</g>\n<!-- 140426133897616&#45;&gt;140426133899968+ -->\n<g id=\"edge23\" class=\"edge\">\n<title>140426133897616&#45;&gt;140426133899968+</title>\n<path fill=\"none\" stroke=\"#000000\" d=\"M1060.1587,-87.9604C1089.1552,-91.3206 1118.18,-94.6839 1140.0475,-97.2179\"/>\n<polygon fill=\"#000000\" stroke=\"#000000\" points=\"1139.8396,-100.7172 1150.176,-98.3916 1140.6454,-93.7637 1139.8396,-100.7172\"/>\n</g>\n<!-- 140426133898144 -->\n<g id=\"node26\" class=\"node\">\n<title>140426133898144</title>\n<polygon fill=\"none\" stroke=\"#000000\" points=\"4.5,-29.5 4.5,-65.5 244.5,-65.5 244.5,-29.5 4.5,-29.5\"/>\n<text text-anchor=\"middle\" x=\"21.5\" y=\"-43.8\" font-family=\"Times,serif\" font-size=\"14.00\" fill=\"#000000\">x2</text>\n<polyline fill=\"none\" stroke=\"#000000\" points=\"38.5,-29.5 38.5,-65.5 \"/>\n<text text-anchor=\"middle\" x=\"89.5\" y=\"-43.8\" font-family=\"Times,serif\" font-size=\"14.00\" fill=\"#000000\">data 0.0000</text>\n<polyline fill=\"none\" stroke=\"#000000\" points=\"140.5,-29.5 140.5,-65.5 \"/>\n<text text-anchor=\"middle\" x=\"192.5\" y=\"-43.8\" font-family=\"Times,serif\" font-size=\"14.00\" fill=\"#000000\">grad 0.5000</text>\n</g>\n<!-- 140426133898144&#45;&gt;140426133897280* -->\n<g id=\"edge15\" class=\"edge\">\n<title>140426133898144&#45;&gt;140426133897280*</title>\n<path fill=\"none\" stroke=\"#000000\" d=\"M214.1273,-65.5751C225.9469,-68.5649 237.8288,-71.8839 249,-75.5 259.5527,-78.9159 270.7729,-83.4238 280.7755,-87.7756\"/>\n<polygon fill=\"#000000\" stroke=\"#000000\" points=\"279.3725,-90.9821 289.931,-91.8593 282.2241,-84.5892 279.3725,-90.9821\"/>\n</g>\n<!-- 140426138758112 -->\n<g id=\"node27\" class=\"node\">\n<title>140426138758112</title>\n<polygon fill=\"none\" stroke=\"#000000\" points=\"3192.5952,-54.5 3192.5952,-90.5 3419.5952,-90.5 3419.5952,-54.5 3192.5952,-54.5\"/>\n<text text-anchor=\"middle\" x=\"3203.0952\" y=\"-68.8\" font-family=\"Times,serif\" font-size=\"14.00\" fill=\"#000000\"> </text>\n<polyline fill=\"none\" stroke=\"#000000\" points=\"3213.5952,-54.5 3213.5952,-90.5 \"/>\n<text text-anchor=\"middle\" x=\"3264.5952\" y=\"-68.8\" font-family=\"Times,serif\" font-size=\"14.00\" fill=\"#000000\">data 0.7071</text>\n<polyline fill=\"none\" stroke=\"#000000\" points=\"3315.5952,-54.5 3315.5952,-90.5 \"/>\n<text text-anchor=\"middle\" x=\"3367.5952\" y=\"-68.8\" font-family=\"Times,serif\" font-size=\"14.00\" fill=\"#000000\">grad 1.0000</text>\n</g>\n<!-- 140426138758112*&#45;&gt;140426138758112 -->\n<g id=\"edge10\" class=\"edge\">\n<title>140426138758112*&#45;&gt;140426138758112</title>\n<path fill=\"none\" stroke=\"#000000\" d=\"M3156.7865,-72.5C3164.2428,-72.5 3172.8399,-72.5 3182.0648,-72.5\"/>\n<polygon fill=\"#000000\" stroke=\"#000000\" points=\"3182.2971,-76.0001 3192.2971,-72.5 3182.297,-69.0001 3182.2971,-76.0001\"/>\n</g>\n</g>\n</svg>\n",
      "text/plain": [
       "<graphviz.graphs.Digraph at 0x7fb781d4cf10>"
      ]
     },
     "execution_count": 11,
     "metadata": {},
     "output_type": "execute_result"
    }
   ],
   "source": [
    "draw_dot(o)"
   ]
  },
  {
   "cell_type": "code",
   "execution_count": 98,
   "metadata": {},
   "outputs": [],
   "source": [
    "class Neuron:\n",
    "  \n",
    "  def __init__(self, nin):\n",
    "    self.w = [Value(random.uniform(-1,1)) for _ in range(nin)]\n",
    "    self.b = Value(random.uniform(-1,1))\n",
    "  \n",
    "  def __call__(self, x):\n",
    "    # w * x + b\n",
    "    act = sum((wi*xi for wi, xi in zip(self.w, x)), self.b)\n",
    "    out = act.tanh()\n",
    "    return out\n",
    "  \n",
    "  def parameters(self):\n",
    "    return self.w + [self.b]\n",
    "\n",
    "\n",
    "class Layer:\n",
    "    def __init__(self, nin, nout):\n",
    "      self.neurons = [Neuron(nin) for _ in range(nout)]\n",
    "    \n",
    "    def __call__(self, x):\n",
    "      out = [neuron(x) for neuron in self.neurons]\n",
    "      return out[0] if len(out) == 1 else out\n",
    "\n",
    "    def parameters(self):\n",
    "      return [p for neuron in self.neurons for p in neuron.parameters()]\n",
    "\n",
    "class MLP:\n",
    "  def __init__(self, nin, nouts):\n",
    "    sz = [nin] + nouts\n",
    "    self.layers = [Layer(sz[i], sz[i+1]) for i in range(len(nouts))]\n",
    "\n",
    "  def __call__(self, x):\n",
    "    for layer in self.layers:\n",
    "      x = layer(x)\n",
    "    return x\n",
    "\n",
    "  def parameters(self):\n",
    "    return [p for layer in self.layers for p in layer.parameters()]\n"
   ]
  },
  {
   "cell_type": "code",
   "execution_count": 180,
   "metadata": {},
   "outputs": [
    {
     "name": "stdout",
     "output_type": "stream",
     "text": [
      "0 5.6705277461234385\n",
      "1 4.360906980576227\n",
      "2 4.069588170315953\n",
      "3 3.9255634740920815\n",
      "4 3.725955869064359\n",
      "5 3.2785844283628056\n",
      "6 2.284796698135614\n",
      "7 1.1104972474919268\n",
      "8 0.5312271460910223\n",
      "9 0.30370684244334767\n",
      "10 0.20268007644218544\n",
      "11 0.14896448747030147\n",
      "12 0.11644851061447264\n",
      "13 0.09493233847892124\n",
      "14 0.07976228353270837\n",
      "15 0.068550783442772\n",
      "16 0.05995939605324625\n",
      "17 0.053184562994851386\n",
      "18 0.04771689664091358\n",
      "19 0.04321893525033967\n"
     ]
    }
   ],
   "source": [
    "xs = [\n",
    "  [2.0, 3.0, -1.0],\n",
    "  [3.0, -1.0, 0.5],\n",
    "  [0.5, 1.0, 1.0],\n",
    "  [1.0, 1.0, -1.0],\n",
    "]\n",
    "ys = [1.0, -1.0, -1.0, 1.0]\n",
    "\n",
    "mlp = MLP(3, [2, 1])\n",
    "\n",
    "losses = []\n",
    "for k in range(20):\n",
    "  # forward pass\n",
    "  ypred = [mlp(x) for x in xs]\n",
    "  loss = sum((yout - ygt)**2 for ygt, yout in zip(ys, ypred))\n",
    "  losses.append(loss.data)\n",
    "  for p in mlp.parameters():\n",
    "    p.grad = 0.0\n",
    "  loss.backward()\n",
    "  \n",
    "  # update\n",
    "  for p in mlp.parameters():\n",
    "    p.data += -0.1 * p.grad\n",
    "  \n",
    "  print(k, loss.data)\n",
    "  "
   ]
  },
  {
   "cell_type": "code",
   "execution_count": 181,
   "metadata": {},
   "outputs": [
    {
     "data": {
      "image/png": "[encoded data removed]",
      "text/plain": [
       "<Figure size 640x480 with 1 Axes>"
      ]
     },
     "metadata": {},
     "output_type": "display_data"
    }
   ],
   "source": [
    "plt.plot(range(len(losses)), losses)\n",
    "plt.show()"
   ]
  },
  {
   "cell_type": "code",
   "execution_count": 183,
   "metadata": {},
   "outputs": [
    {
     "data": {
      "text/plain": [
       "[Value(data=0.920272326902955),\n",
       " Value(data=-0.9481086371004566),\n",
       " Value(data=-0.86943910999591),\n",
       " Value(data=0.869142925867043)]"
      ]
     },
     "execution_count": 183,
     "metadata": {},
     "output_type": "execute_result"
    }
   ],
   "source": [
    "ypred"
   ]
  }
 ],
 "metadata": {
  "kernelspec": {
   "display_name": "Python 3.8.11 ('test_env')",
   "language": "python",
   "name": "python3"
  },
  "language_info": {
   "codemirror_mode": {
    "name": "ipython",
    "version": 3
   },
   "file_extension": ".py",
   "mimetype": "text/x-python",
   "name": "python",
   "nbconvert_exporter": "python",
   "pygments_lexer": "ipython3",
   "version": "3.8.11"
  },
  "orig_nbformat": 4,
  "vscode": {
   "interpreter": {
    "hash": "f50bb24a0f9dc16a616d26e039fe62966b9ce0777dd3555b83d7f9f98e5032a5"
   }
  }
 },
 "nbformat": 4,
 "nbformat_minor": 2
}
